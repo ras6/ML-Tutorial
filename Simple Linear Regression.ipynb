{
 "cells": [
  {
   "cell_type": "code",
   "execution_count": 14,
   "id": "164824b6",
   "metadata": {},
   "outputs": [],
   "source": [
    "import pandas as pd\n",
    "import quandl"
   ]
  },
  {
   "cell_type": "code",
   "execution_count": 29,
   "id": "053db286",
   "metadata": {},
   "outputs": [
    {
     "name": "stdout",
     "output_type": "stream",
     "text": [
      "<bound method NDFrame.head of                Open     High      Low     Close      Volume  Ex-Dividend  \\\n",
      "Date                                                                       \n",
      "2004-08-19   100.01   104.06    95.96   100.335  44659000.0          0.0   \n",
      "2004-08-20   101.01   109.08   100.50   108.310  22834300.0          0.0   \n",
      "2004-08-23   110.76   113.48   109.05   109.400  18256100.0          0.0   \n",
      "2004-08-24   111.24   111.60   103.57   104.870  15247300.0          0.0   \n",
      "2004-08-25   104.76   108.00   103.88   106.000   9188600.0          0.0   \n",
      "...             ...      ...      ...       ...         ...          ...   \n",
      "2018-03-21  1092.57  1108.70  1087.21  1094.000   1990515.0          0.0   \n",
      "2018-03-22  1080.01  1083.92  1049.64  1053.150   3418154.0          0.0   \n",
      "2018-03-23  1051.37  1066.78  1024.87  1026.550   2413517.0          0.0   \n",
      "2018-03-26  1050.60  1059.27  1010.58  1054.090   3272409.0          0.0   \n",
      "2018-03-27  1063.90  1064.54   997.62  1006.940   2940957.0          0.0   \n",
      "\n",
      "            Split Ratio    Adj. Open    Adj. High     Adj. Low   Adj. Close  \\\n",
      "Date                                                                          \n",
      "2004-08-19          1.0    50.159839    52.191109    48.128568    50.322842   \n",
      "2004-08-20          1.0    50.661387    54.708881    50.405597    54.322689   \n",
      "2004-08-23          1.0    55.551482    56.915693    54.693835    54.869377   \n",
      "2004-08-24          1.0    55.792225    55.972783    51.945350    52.597363   \n",
      "2004-08-25          1.0    52.542193    54.167209    52.100830    53.164113   \n",
      "...                 ...          ...          ...          ...          ...   \n",
      "2018-03-21          1.0  1092.570000  1108.700000  1087.210000  1094.000000   \n",
      "2018-03-22          1.0  1080.010000  1083.920000  1049.640000  1053.150000   \n",
      "2018-03-23          1.0  1051.370000  1066.780000  1024.870000  1026.550000   \n",
      "2018-03-26          1.0  1050.600000  1059.270000  1010.580000  1054.090000   \n",
      "2018-03-27          1.0  1063.900000  1064.540000   997.620000  1006.940000   \n",
      "\n",
      "            Adj. Volume  \n",
      "Date                     \n",
      "2004-08-19   44659000.0  \n",
      "2004-08-20   22834300.0  \n",
      "2004-08-23   18256100.0  \n",
      "2004-08-24   15247300.0  \n",
      "2004-08-25    9188600.0  \n",
      "...                 ...  \n",
      "2018-03-21    1990515.0  \n",
      "2018-03-22    3418154.0  \n",
      "2018-03-23    2413517.0  \n",
      "2018-03-26    3272409.0  \n",
      "2018-03-27    2940957.0  \n",
      "\n",
      "[3424 rows x 12 columns]>\n"
     ]
    }
   ],
   "source": [
    "df = quandl.get('WIKI/GOOGL')\n",
    "print(df.head)\n"
   ]
  },
  {
   "cell_type": "code",
   "execution_count": 30,
   "id": "f2c00ce9",
   "metadata": {},
   "outputs": [],
   "source": [
    "df = df[['Adj. Open','Adj. High','Adj. Low','Adj. Close','Adj. Volume']]"
   ]
  },
  {
   "cell_type": "code",
   "execution_count": 34,
   "id": "41ca0993",
   "metadata": {},
   "outputs": [],
   "source": [
    "df['HL_PCT']= (df['Adj. High'] - df['Adj. Close']) / df['Adj. Close'] * 100\n",
    "\n",
    "df['PCT_change']= (df['Adj. Close'] - df['Adj. Open']) / df['Adj. Open'] * 100"
   ]
  },
  {
   "cell_type": "code",
   "execution_count": 35,
   "id": "91f84ae0",
   "metadata": {},
   "outputs": [
    {
     "name": "stdout",
     "output_type": "stream",
     "text": [
      "              Adj. Open    Adj. High     Adj. Low   Adj. Close  Adj. Volume  \\\n",
      "Date                                                                          \n",
      "2004-08-19    50.159839    52.191109    48.128568    50.322842   44659000.0   \n",
      "2004-08-20    50.661387    54.708881    50.405597    54.322689   22834300.0   \n",
      "2004-08-23    55.551482    56.915693    54.693835    54.869377   18256100.0   \n",
      "2004-08-24    55.792225    55.972783    51.945350    52.597363   15247300.0   \n",
      "2004-08-25    52.542193    54.167209    52.100830    53.164113    9188600.0   \n",
      "...                 ...          ...          ...          ...          ...   \n",
      "2018-03-21  1092.570000  1108.700000  1087.210000  1094.000000    1990515.0   \n",
      "2018-03-22  1080.010000  1083.920000  1049.640000  1053.150000    3418154.0   \n",
      "2018-03-23  1051.370000  1066.780000  1024.870000  1026.550000    2413517.0   \n",
      "2018-03-26  1050.600000  1059.270000  1010.580000  1054.090000    3272409.0   \n",
      "2018-03-27  1063.900000  1064.540000   997.620000  1006.940000    2940957.0   \n",
      "\n",
      "              HL_PCT  PCT_change  \n",
      "Date                              \n",
      "2004-08-19  3.712563    0.324968  \n",
      "2004-08-20  0.710922    7.227007  \n",
      "2004-08-23  3.729433   -1.227880  \n",
      "2004-08-24  6.417469   -5.726357  \n",
      "2004-08-25  1.886792    1.183658  \n",
      "...              ...         ...  \n",
      "2018-03-21  1.343693    0.130884  \n",
      "2018-03-22  2.921711   -2.487014  \n",
      "2018-03-23  3.918952   -2.360729  \n",
      "2018-03-26  0.491419    0.332191  \n",
      "2018-03-27  5.720301   -5.353887  \n",
      "\n",
      "[3424 rows x 7 columns]\n"
     ]
    }
   ],
   "source": [
    "print(df)"
   ]
  },
  {
   "cell_type": "code",
   "execution_count": 38,
   "id": "7579b7ab",
   "metadata": {},
   "outputs": [],
   "source": [
    "df = df[['Adj. Close', 'HL_PCT', 'PCT_change', 'Adj. Volume']]"
   ]
  },
  {
   "cell_type": "code",
   "execution_count": 39,
   "id": "f08df36d",
   "metadata": {},
   "outputs": [
    {
     "data": {
      "text/html": [
       "<div>\n",
       "<style scoped>\n",
       "    .dataframe tbody tr th:only-of-type {\n",
       "        vertical-align: middle;\n",
       "    }\n",
       "\n",
       "    .dataframe tbody tr th {\n",
       "        vertical-align: top;\n",
       "    }\n",
       "\n",
       "    .dataframe thead th {\n",
       "        text-align: right;\n",
       "    }\n",
       "</style>\n",
       "<table border=\"1\" class=\"dataframe\">\n",
       "  <thead>\n",
       "    <tr style=\"text-align: right;\">\n",
       "      <th></th>\n",
       "      <th>Adj. Close</th>\n",
       "      <th>HL_PCT</th>\n",
       "      <th>PCT_change</th>\n",
       "      <th>Adj. Volume</th>\n",
       "    </tr>\n",
       "    <tr>\n",
       "      <th>Date</th>\n",
       "      <th></th>\n",
       "      <th></th>\n",
       "      <th></th>\n",
       "      <th></th>\n",
       "    </tr>\n",
       "  </thead>\n",
       "  <tbody>\n",
       "    <tr>\n",
       "      <th>2004-08-19</th>\n",
       "      <td>50.322842</td>\n",
       "      <td>3.712563</td>\n",
       "      <td>0.324968</td>\n",
       "      <td>44659000.0</td>\n",
       "    </tr>\n",
       "    <tr>\n",
       "      <th>2004-08-20</th>\n",
       "      <td>54.322689</td>\n",
       "      <td>0.710922</td>\n",
       "      <td>7.227007</td>\n",
       "      <td>22834300.0</td>\n",
       "    </tr>\n",
       "    <tr>\n",
       "      <th>2004-08-23</th>\n",
       "      <td>54.869377</td>\n",
       "      <td>3.729433</td>\n",
       "      <td>-1.227880</td>\n",
       "      <td>18256100.0</td>\n",
       "    </tr>\n",
       "    <tr>\n",
       "      <th>2004-08-24</th>\n",
       "      <td>52.597363</td>\n",
       "      <td>6.417469</td>\n",
       "      <td>-5.726357</td>\n",
       "      <td>15247300.0</td>\n",
       "    </tr>\n",
       "    <tr>\n",
       "      <th>2004-08-25</th>\n",
       "      <td>53.164113</td>\n",
       "      <td>1.886792</td>\n",
       "      <td>1.183658</td>\n",
       "      <td>9188600.0</td>\n",
       "    </tr>\n",
       "  </tbody>\n",
       "</table>\n",
       "</div>"
      ],
      "text/plain": [
       "            Adj. Close    HL_PCT  PCT_change  Adj. Volume\n",
       "Date                                                     \n",
       "2004-08-19   50.322842  3.712563    0.324968   44659000.0\n",
       "2004-08-20   54.322689  0.710922    7.227007   22834300.0\n",
       "2004-08-23   54.869377  3.729433   -1.227880   18256100.0\n",
       "2004-08-24   52.597363  6.417469   -5.726357   15247300.0\n",
       "2004-08-25   53.164113  1.886792    1.183658    9188600.0"
      ]
     },
     "execution_count": 39,
     "metadata": {},
     "output_type": "execute_result"
    }
   ],
   "source": [
    "df.head()"
   ]
  },
  {
   "cell_type": "code",
   "execution_count": null,
   "id": "9fcfee7f",
   "metadata": {},
   "outputs": [],
   "source": [
    "forecast_col = 'Adj. Close'\n",
    "\n",
    "df.fillna(-9999,inplace=True)\n",
    "\n",
    "forecast_out = int(math.ceil(0.1*len(df)))\n",
    "\n",
    "df['label'] = df[forecast_col].shift(-forecast_out)"
   ]
  },
  {
   "cell_type": "code",
   "execution_count": null,
   "id": "6f90ea12",
   "metadata": {},
   "outputs": [],
   "source": []
  }
 ],
 "metadata": {
  "kernelspec": {
   "display_name": "Python 3",
   "language": "python",
   "name": "python3"
  },
  "language_info": {
   "codemirror_mode": {
    "name": "ipython",
    "version": 3
   },
   "file_extension": ".py",
   "mimetype": "text/x-python",
   "name": "python",
   "nbconvert_exporter": "python",
   "pygments_lexer": "ipython3",
   "version": "3.8.8"
  }
 },
 "nbformat": 4,
 "nbformat_minor": 5
}
